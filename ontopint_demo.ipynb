{
 "cells": [
  {
   "cell_type": "markdown",
   "metadata": {},
   "source": [
    "# MADICES II 2024: `ontopint` demo\n",
    "\n",
    "As part of the hackathon during the second MADICES workshop we started developing the\n",
    "python package `ontopint` ([pypi.org/project/ontopint](https://pypi.org/project/ontopint/))\n",
    "which can be used to convert values in a JSON-LD with semantically annotated units into\n",
    "`pint` quantities ([pypi.org/project/Pint](https://pypi.org/project/Pint/)).\n",
    "\n",
    "The package can be installed with\n",
    "```sh\n",
    "pip install ontopint\n",
    "```\n",
    "and exposes the function `parse_units` which takes a JSON-LD object, in the form of a\n",
    "python dictionary, as its input. This notebook uses `ontopint` version 0.0.5."
   ]
  },
  {
   "cell_type": "markdown",
   "metadata": {},
   "source": [
    "### 1. Import `parse_units` function"
   ]
  },
  {
   "cell_type": "code",
   "execution_count": 1,
   "metadata": {},
   "outputs": [],
   "source": [
    "from ontopint import parse_units"
   ]
  },
  {
   "cell_type": "markdown",
   "metadata": {},
   "source": [
    "### 2. Define a test data set"
   ]
  },
  {
   "cell_type": "code",
   "execution_count": 2,
   "metadata": {},
   "outputs": [],
   "source": [
    "data = {\n",
    "    \"@context\": {\n",
    "      \"qudt\": \"http://qudt.org/schema/qudt/\",\n",
    "      \"qunit\": \"http://qudt.org/vocab/unit/\",\n",
    "      \"qkind\": \"http://qudt.org/vocab/quantkind/\",\n",
    "      \"my_unit\": {\n",
    "        \"@id\": \"qudt:hasUnit\",\n",
    "        \"@type\": \"@id\"\n",
    "      },\n",
    "      \"quantity\": {\n",
    "        \"@id\": \"qudt:hasQuantityKind\",\n",
    "        \"@type\": \"@id\"\n",
    "      },\n",
    "      \"my_value\": \"qudt:value\",\n",
    "      \"band_gap\": \"http://example.org/BandGap\",\n",
    "      \"mass\": \"http://example.org/Mass\",\n",
    "      \"type\": \"@type\",\n",
    "      \"sample_id\": \"@id\"\n",
    "    },\n",
    "    \"sample_id\": \"HUB_HaNa_20240424_Sample-1\",\n",
    "    \"band_gap\" : {\n",
    "      \"type\": \"qudt:Quantity\",\n",
    "      \"quantity\": \"qkind:GapEnergy\",\n",
    "      \"my_value\": 1.9,\n",
    "      \"my_unit\": \"qunit:EV\"\n",
    "    },\n",
    "    \"mass\": {\n",
    "      \"type\": \"qudt:Quantity\",\n",
    "      \"quantity\": \"qkind:Mass\",\n",
    "      \"my_value\": 3201.3,\n",
    "      \"my_unit\": \"qunit:MilliGM\"\n",
    "    }\n",
    "}"
   ]
  },
  {
   "cell_type": "markdown",
   "metadata": {},
   "source": [
    "### 3. Parse the test data"
   ]
  },
  {
   "cell_type": "code",
   "execution_count": 3,
   "metadata": {},
   "outputs": [],
   "source": [
    "parsed_data = parse_units(data)"
   ]
  },
  {
   "cell_type": "markdown",
   "metadata": {},
   "source": [
    "### 4. Easily work with the data in python"
   ]
  },
  {
   "cell_type": "code",
   "execution_count": 4,
   "metadata": {},
   "outputs": [
    {
     "data": {
      "text/html": [
       "3.2013000000000003 gram"
      ],
      "text/latex": [
       "$3.2013000000000003\\ \\mathrm{gram}$"
      ],
      "text/plain": [
       "3.2013000000000003 <Unit('gram')>"
      ]
     },
     "execution_count": 4,
     "metadata": {},
     "output_type": "execute_result"
    }
   ],
   "source": [
    "parsed_data['mass']['my_value'].to('g')"
   ]
  }
 ],
 "metadata": {
  "kernelspec": {
   "display_name": ".env",
   "language": "python",
   "name": "python3"
  },
  "language_info": {
   "codemirror_mode": {
    "name": "ipython",
    "version": 3
   },
   "file_extension": ".py",
   "mimetype": "text/x-python",
   "name": "python",
   "nbconvert_exporter": "python",
   "pygments_lexer": "ipython3",
   "version": "3.11.6"
  }
 },
 "nbformat": 4,
 "nbformat_minor": 2
}
